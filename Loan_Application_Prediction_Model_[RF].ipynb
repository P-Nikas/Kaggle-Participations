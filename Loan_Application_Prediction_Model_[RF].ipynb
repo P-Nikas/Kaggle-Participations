{
  "metadata": {
    "kernelspec": {
      "language": "python",
      "display_name": "Python 3",
      "name": "python3"
    },
    "language_info": {
      "name": "python",
      "version": "3.10.14",
      "mimetype": "text/x-python",
      "codemirror_mode": {
        "name": "ipython",
        "version": 3
      },
      "pygments_lexer": "ipython3",
      "nbconvert_exporter": "python",
      "file_extension": ".py"
    },
    "kaggle": {
      "accelerator": "none",
      "dataSources": [
        {
          "sourceId": 84894,
          "databundleVersionId": 9709193,
          "sourceType": "competition"
        }
      ],
      "dockerImageVersionId": 30786,
      "isInternetEnabled": false,
      "language": "python",
      "sourceType": "notebook",
      "isGpuEnabled": false
    },
    "colab": {
      "provenance": []
    }
  },
  "nbformat_minor": 0,
  "nbformat": 4,
  "cells": [
    {
      "source": [
        "\n",
        "\n",
        "import os\n",
        "import sys\n",
        "from tempfile import NamedTemporaryFile\n",
        "from urllib.request import urlopen\n",
        "from urllib.parse import unquote, urlparse\n",
        "from urllib.error import HTTPError\n",
        "from zipfile import ZipFile\n",
        "import tarfile\n",
        "import shutil\n",
        "import pandas as pd\n",
        "from sklearn.model_selection import train_test_split\n",
        "from sklearn.ensemble import RandomForestClassifier\n",
        "from sklearn.metrics import classification_report, accuracy_score\n",
        "from sklearn.preprocessing import LabelEncoder\n",
        "\n",
        "CHUNK_SIZE = 40960\n",
        "DATA_SOURCE_MAPPING = 'playground-series-s4e10:https%3A%2F%2Fstorage.googleapis.com%2Fkaggle-competitions-data%2Fkaggle-v2%2F84894%2F9709193%2Fbundle%2Farchive.zip%3FX-Goog-Algorithm%3DGOOG4-RSA-SHA256%26X-Goog-Credential%3Dgcp-kaggle-com%2540kaggle-161607.iam.gserviceaccount.com%252F20241005%252Fauto%252Fstorage%252Fgoog4_request%26X-Goog-Date%3D20241005T212300Z%26X-Goog-Expires%3D259200%26X-Goog-SignedHeaders%3Dhost%26X-Goog-Signature%3D9755e8731818cf47b3a548758fa39cbf399df2e61493a088115c6640f18d683ef080ebf8a1153f9a42378787d7348c1ee894c3a962da97c7444b56e1faa34fe528fe9390807d7d615d80b6e1155edb4c815583689024f801039e8f9b063319f9a40e5c423064443e9a1474f317ba39af48e739038cf06edddfd5e6d2165d177fe993bb198f3b6d42a76b9fdabb3d2f6ea18d86a4c0fa1f4bdb95be1cc9f73cd70473fffd84955a775194a0629e502521d4edbff1ca0cecbbd563992daf3e0d7a155c079cd3dcc0b800f4c85a7bc96add1dffc676995a24dda1ad02bc3d47ee4a81fe3322dd89b0135839e8dd6140bf69c048662ad09e7f7c1639a7b13bdcff7c'\n",
        "\n",
        "KAGGLE_INPUT_PATH='/kaggle/input'\n",
        "KAGGLE_WORKING_PATH='/kaggle/working'\n",
        "KAGGLE_SYMLINK='kaggle'\n",
        "\n",
        "!umount /kaggle/input/ 2> /dev/null\n",
        "shutil.rmtree('/kaggle/input', ignore_errors=True)\n",
        "os.makedirs(KAGGLE_INPUT_PATH, 0o777, exist_ok=True)\n",
        "os.makedirs(KAGGLE_WORKING_PATH, 0o777, exist_ok=True)\n",
        "\n",
        "try:\n",
        "  os.symlink(KAGGLE_INPUT_PATH, os.path.join(\"..\", 'input'), target_is_directory=True)\n",
        "except FileExistsError:\n",
        "  pass\n",
        "try:\n",
        "  os.symlink(KAGGLE_WORKING_PATH, os.path.join(\"..\", 'working'), target_is_directory=True)\n",
        "except FileExistsError:\n",
        "  pass\n",
        "\n",
        "for data_source_mapping in DATA_SOURCE_MAPPING.split(','):\n",
        "    directory, download_url_encoded = data_source_mapping.split(':')\n",
        "    download_url = unquote(download_url_encoded)\n",
        "    filename = urlparse(download_url).path\n",
        "    destination_path = os.path.join(KAGGLE_INPUT_PATH, directory)\n",
        "    try:\n",
        "        with urlopen(download_url) as fileres, NamedTemporaryFile() as tfile:\n",
        "            total_length = fileres.headers['content-length']\n",
        "            print(f'Downloading {directory}, {total_length} bytes compressed')\n",
        "            dl = 0\n",
        "            data = fileres.read(CHUNK_SIZE)\n",
        "            while len(data) > 0:\n",
        "                dl += len(data)\n",
        "                tfile.write(data)\n",
        "                done = int(50 * dl / int(total_length))\n",
        "                sys.stdout.write(f\"\\r[{'=' * done}{' ' * (50-done)}] {dl} bytes downloaded\")\n",
        "                sys.stdout.flush()\n",
        "                data = fileres.read(CHUNK_SIZE)\n",
        "            if filename.endswith('.zip'):\n",
        "              with ZipFile(tfile) as zfile:\n",
        "                zfile.extractall(destination_path)\n",
        "            else:\n",
        "              with tarfile.open(tfile.name) as tarfile:\n",
        "                tarfile.extractall(destination_path)\n",
        "            print(f'\\nDownloaded and uncompressed: {directory}')\n",
        "    except HTTPError as e:\n",
        "        print(f'Failed to load (likely expired) {download_url} to path {destination_path}')\n",
        "        continue\n",
        "    except OSError as e:\n",
        "        print(f'Failed to load {download_url} to path {destination_path}')\n",
        "        continue\n",
        "\n",
        "print('Data source import complete.')\n"
      ],
      "metadata": {
        "id": "yZguMRC5kKg3",
        "outputId": "ca4c9006-6683-443c-ef53-6249671c5ae6",
        "colab": {
          "base_uri": "https://localhost:8080/"
        }
      },
      "cell_type": "code",
      "outputs": [
        {
          "output_type": "stream",
          "name": "stdout",
          "text": [
            "Downloading playground-series-s4e10, 1515882 bytes compressed\n",
            "[==================================================] 1515882 bytes downloaded\n",
            "Downloaded and uncompressed: playground-series-s4e10\n",
            "Data source import complete.\n"
          ]
        }
      ],
      "execution_count": null
    },
    {
      "cell_type": "code",
      "source": [
        "\n",
        "\n",
        "# Load the datasets\n",
        "train_data = pd.read_csv(\"/kaggle/input/playground-series-s4e10/train.csv\")\n",
        "test_data = pd.read_csv(\"/kaggle/input/playground-series-s4e10/test.csv\")\n",
        "\n",
        "# Simple missing value handling: Drop columns with too many missing values\n",
        "train_data.dropna(axis=1, thresh=len(train_data) * 0.8, inplace=True)\n",
        "test_data.dropna(axis=1, thresh=len(test_data) * 0.8, inplace=True)\n",
        "\n",
        "# Convert categorical variables to numeric using Label Encoding\n",
        "label_encoders = {}\n",
        "categorical_columns = ['person_home_ownership', 'loan_intent', 'loan_grade', 'cb_person_default_on_file']\n",
        "\n",
        "for column in categorical_columns:\n",
        "    le = LabelEncoder()\n",
        "    # Use .astype() to ensure proper type before encoding\n",
        "    train_data[column] = le.fit_transform(train_data[column].astype(str))\n",
        "    test_data[column] = le.transform(test_data[column].astype(str))\n",
        "    label_encoders[column] = le  # Save the encoder if we need to inverse transform later\n",
        "\n",
        "# Define features (X) and target (y) for training\n",
        "X = train_data.drop(columns=['id', 'loan_status'])  # Assuming 'loan_status' is the target variable\n",
        "y = train_data['loan_status']\n",
        "\n",
        "# Split the training data into training and validation sets\n",
        "X_train, X_val, y_train, y_val = train_test_split(X, y, test_size=0.2, random_state=42)\n",
        "\n",
        "# Train the Random Forest Classifier with fewer trees and a max depth limit\n",
        "model = RandomForestClassifier(n_estimators=20, max_depth=10, random_state=42)\n",
        "model.fit(X_train, y_train)\n",
        "\n",
        "# Make predictions on the validation set\n",
        "y_pred = model.predict(X_val)\n",
        "\n",
        "# Evaluate the model\n",
        "print(\"Accuracy on validation set:\", accuracy_score(y_val, y_pred))\n",
        "print(\"\\nClassification Report:\\n\", classification_report(y_val, y_pred))\n",
        "\n",
        "# Make predictions on the test dataset\n",
        "test_predictions = model.predict(test_data.drop(columns=['id']))\n"
      ],
      "metadata": {
        "execution": {
          "iopub.status.busy": "2024-10-05T21:21:47.320608Z",
          "iopub.execute_input": "2024-10-05T21:21:47.321715Z",
          "iopub.status.idle": "2024-10-05T21:21:49.036234Z",
          "shell.execute_reply.started": "2024-10-05T21:21:47.321671Z",
          "shell.execute_reply": "2024-10-05T21:21:49.034725Z"
        },
        "trusted": true,
        "id": "KlxzY6bWkKhz",
        "outputId": "7d09903c-c6a2-4b68-b768-67d27907b931",
        "colab": {
          "base_uri": "https://localhost:8080/"
        }
      },
      "execution_count": null,
      "outputs": [
        {
          "output_type": "stream",
          "name": "stdout",
          "text": [
            "Accuracy on validation set: 0.9457754284252707\n",
            "\n",
            "Classification Report:\n",
            "               precision    recall  f1-score   support\n",
            "\n",
            "           0       0.95      0.99      0.97     10087\n",
            "           1       0.91      0.68      0.78      1642\n",
            "\n",
            "    accuracy                           0.95     11729\n",
            "   macro avg       0.93      0.83      0.87     11729\n",
            "weighted avg       0.94      0.95      0.94     11729\n",
            "\n"
          ]
        }
      ]
    },
    {
      "cell_type": "code",
      "source": [
        "\n",
        "# Convert the NumPy array to a DataFrame\n",
        "test_predictions_df = pd.DataFrame(test_predictions, columns=['predictions'])\n",
        "\n",
        "# Save the DataFrame to a CSV file\n",
        "test_predictions_df.to_csv('test_predictions.csv', index=False)\n",
        "\n",
        "print(\"Predictions saved to 'test_predictions.csv'.\")\n"
      ],
      "metadata": {
        "execution": {
          "iopub.status.busy": "2024-10-05T21:21:49.038294Z",
          "iopub.execute_input": "2024-10-05T21:21:49.038898Z",
          "iopub.status.idle": "2024-10-05T21:21:49.080937Z",
          "shell.execute_reply.started": "2024-10-05T21:21:49.038836Z",
          "shell.execute_reply": "2024-10-05T21:21:49.079618Z"
        },
        "trusted": true,
        "id": "IDRM5UUdkKh4",
        "outputId": "7e2786a3-bbfc-41e6-9712-331771f185a8",
        "colab": {
          "base_uri": "https://localhost:8080/"
        }
      },
      "execution_count": null,
      "outputs": [
        {
          "output_type": "stream",
          "name": "stdout",
          "text": [
            "Predictions saved to 'test_predictions.csv'.\n"
          ]
        }
      ]
    }
  ]
}